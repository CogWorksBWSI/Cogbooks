{
 "cells": [
  {
   "cell_type": "markdown",
   "metadata": {
    "lines_to_next_cell": 0
   },
   "source": [
    "Lorem ipsum dolor sit amet, consectetur adipiscing elit, \n",
    "sed do "
   ]
  },
  {
   "cell_type": "code",
   "execution_count": null,
   "metadata": {
    "lines_to_next_cell": 0
   },
   "outputs": [],
   "source": [
    "pass"
   ]
  },
  {
   "cell_type": "markdown",
   "metadata": {},
   "source": [
    "quis nostrud exercitation ullamco laboris nisi ut \n",
    "aliquip ex ea *SOLUTION HERE* in culpa qui officia deserunt mollit \n",
    "anim id est laborum."
   ]
  }
 ],
 "metadata": {
  "jupytext": {
   "formats": "ipynb,md"
  },
  "kernelspec": {
   "display_name": "Python 3",
   "language": "python",
   "name": "python3"
  }
 },
 "nbformat": 4,
 "nbformat_minor": 2
}
TESTTESTTESTTESTTESTTESTTESTTESTTEST